{
 "cells": [
  {
   "cell_type": "code",
   "execution_count": 1,
   "id": "723bf0b9",
   "metadata": {},
   "outputs": [],
   "source": [
    "# Here I'm importing all the libraries necessaries to run my analysis\n",
    "\n",
    "import datetime\n",
    "import matplotlib.dates as mdates\n",
    "import numpy as np\n",
    "import pandas as pd\n",
    "import matplotlib as mpl\n",
    "import matplotlib.pyplot as plt\n",
    "import matplotlib.colors as clr\n",
    "import netCDF4 as nc\n",
    "import os\n",
    "\n",
    "# The fog function is responsbible to identify the occurrence of fog during the dawn. Basically, it'll return TRUE or FALSE\n",
    "# depending on the dataset\n",
    "\n",
    "def fog(datas, nuvens, hi1=0, hf1=9, altmin=200, Nmin=240):\n",
    "    \n",
    "    ti1 = datetime.time(hi1,0,0)\n",
    "    tf1 = datetime.time(hf1,0,0)\n",
    "    t = np.array([adate.time() for adate in datas])\n",
    "    \n",
    "    mask = ((ti1 <= t) & (t <= tf1))\n",
    "    selecao = nuvens[mask, :]\n",
    "    bases = selecao[:, 0] < altmin \n",
    "    N = np.nansum(bases)\n",
    "    \n",
    "    return N>=Nmin, N\n",
    "\n",
    "# To create the histograms with the time in the x-axis I had to convert the datetime values to float (otherwise the function \n",
    "# to create the histogram would not work), so this is what I'm doing with the converte_real() function\n",
    "\n",
    "def converte_real(horario):\n",
    "    hora = float(horario[0:2])\n",
    "    minuto = float(horario[3:5])\n",
    "    segundo = float(horario[7:])\n",
    "    \n",
    "    minuto = minuto/60\n",
    "    segundo = segundo/(60*60)\n",
    "    \n",
    "    return hora+minuto+segundo"
   ]
  }
 ],
 "metadata": {
  "kernelspec": {
   "display_name": "Python 3 (ipykernel)",
   "language": "python",
   "name": "python3"
  },
  "language_info": {
   "codemirror_mode": {
    "name": "ipython",
    "version": 3
   },
   "file_extension": ".py",
   "mimetype": "text/x-python",
   "name": "python",
   "nbconvert_exporter": "python",
   "pygments_lexer": "ipython3",
   "version": "3.11.2"
  }
 },
 "nbformat": 4,
 "nbformat_minor": 5
}
